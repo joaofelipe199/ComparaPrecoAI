{
  "nbformat": 4,
  "nbformat_minor": 0,
  "metadata": {
    "colab": {
      "provenance": []
    },
    "kernelspec": {
      "name": "python3",
      "display_name": "Python 3"
    },
    "language_info": {
      "name": "python"
    }
  },
  "cells": [
    {
      "cell_type": "code",
      "execution_count": 64,
      "metadata": {
        "id": "VyOuVse9Y6Nj"
      },
      "outputs": [],
      "source": [
        "# Instala as bibliotecas necessárias\n",
        "%pip -q install google-genai google-adk requests folium\n",
        "%pip -q install tabulate\n",
        "%pip -q install pandas"
      ]
    },
    {
      "cell_type": "code",
      "source": [
        "# Instala as bibliotecas necessárias\n",
        "%pip -q install google-genai google-adk requests\n",
        "\n",
        "# Importa as bibliotecas\n",
        "import os\n",
        "from google.colab import userdata\n",
        "from google import genai\n",
        "from google.adk.agents import Agent\n",
        "from google.adk.runners import Runner\n",
        "from google.adk.sessions import InMemorySessionService\n",
        "from google.adk.tools import google_search\n",
        "from google.genai import types\n",
        "from datetime import date\n",
        "import textwrap\n",
        "from IPython.display import display, Markdown, HTML\n",
        "import requests\n",
        "import warnings\n",
        "from tabulate import tabulate\n",
        "import pandas as pd\n",
        "\n",
        "\n",
        "warnings.filterwarnings(\"ignore\")\n",
        "\n",
        "os.environ[\"GOOGLE_API_KEY\"] = userdata.get('GOOGLE_API_KEY')"
      ],
      "metadata": {
        "id": "bjcc27TqZFaj"
      },
      "execution_count": 66,
      "outputs": []
    },
    {
      "cell_type": "code",
      "source": [
        "from google import genai\n",
        "\n",
        "client = genai.Client()\n",
        "\n",
        "MODEL_ID = \"gemini-2.0-flash\"\n",
        "\n"
      ],
      "metadata": {
        "id": "jxknrhlYbmsX"
      },
      "execution_count": 67,
      "outputs": []
    },
    {
      "cell_type": "code",
      "source": [
        "# Função auxiliar que envia uma mensagem para um agente via Runner e retorna a resposta final\n",
        "# Esta função simula a execução de um agente em uma sessão.\n",
        "def call_agent(agent: Agent, message_text: str) -> str:\n",
        "\n",
        "    session_service = InMemorySessionService()\n",
        "    session = session_service.create_session(app_name=agent.name, user_id=\"user1\", session_id=\"session1\")\n",
        "    runner = Runner(agent=agent, app_name=agent.name, session_service=session_service)\n",
        "    content = types.Content(role=\"user\", parts=[types.Part(text=message_text)])\n",
        "\n",
        "    final_response = \"\"\n",
        "    print(f\"🤖 Executando Agente: {agent.name}...\")\n",
        "    try:\n",
        "        for event in runner.run(user_id=\"user1\", session_id=\"session1\", new_message=content):\n",
        "            if event.is_final_response():\n",
        "              for part in event.content.parts:\n",
        "                if part.text is not None:\n",
        "                  final_response += part.text\n",
        "                  final_response += \"\\n\"\n",
        "\n",
        "        print(f\"✅ Execução do Agente {agent.name} concluída.\")\n",
        "    except Exception as e:\n",
        "        print(f\"❌ Erro durante a execução do Agente {agent.name}: {e}\")\n",
        "        final_response = f\"Ocorreu um erro ao processar sua solicitação com o agente {agent.name}. Detalhes: {e}\"\n",
        "\n",
        "    return final_response\n",
        "\n",
        "\n",
        "def to_markdown(text):\n",
        "  text = text.replace('•', '  *')\n",
        "  return Markdown(textwrap.indent(text, '> ', predicate=lambda _: True))\n",
        "\n",
        "def display_search_info(response):\n",
        "\n",
        "    try:\n",
        "        if response and response.candidates and response.candidates[0].grounding_metadata:\n",
        "            print(f\"�� Busca realizada: {response.candidates[0].grounding_metadata.web_search_queries}\")\n",
        "            if response.candidates[0].grounding_metadata.grounding_chunks:\n",
        "                 print(f\"�� Páginas utilizadas na resposta: {', '.join([site.web.title for site in response.candidates[0].grounding_metadata.grounding_chunks if site.web])}\")\n",
        "            print()\n",
        "            if response.candidates[0].grounding_metadata.search_entry_point:\n",
        "                 display(HTML(response.candidates[0].grounding_metadata.search_entry_point.rendered_content))\n",
        "        else:\n",
        "            print(\"ℹ️ Nenhuma informação de busca disponível para esta resposta.\")\n",
        "    except Exception as e:\n",
        "        print(f\"⚠️ Não foi possível exibir as informações de busca: {e}\")\n"
      ],
      "metadata": {
        "id": "zcDnPpnBZN9q"
      },
      "execution_count": 68,
      "outputs": []
    },
    {
      "cell_type": "code",
      "source": [
        "# Função auxiliar para exibir texto formatado em Markdown no Colab\n",
        "def to_markdown(text):\n",
        "  text = text.replace('•', '  *')\n",
        "  return Markdown(textwrap.indent(text, '> ', predicate=lambda _: True))"
      ],
      "metadata": {
        "id": "-pSPQG7wrtsL"
      },
      "execution_count": 69,
      "outputs": []
    },
    {
      "cell_type": "code",
      "source": [
        "# --- Agente 1: Buscador de Supermercados Proximos--- #\n",
        "#####################################################\n",
        "\n",
        "def agente_supermercados_proximos(produto: str, localizacao: str) -> str:\n",
        "    buscador_supermercados = Agent(\n",
        "        name=\"agente_buscador_supermercados\",\n",
        "        model=\"gemini-2.0-flash\",\n",
        "        instruction=f\"\"\"\n",
        "        Você é um assistente de localização de Supermercados. Sua missão é utilizar a ferramenta de busca do Google (google_search)\n",
        "        para encontrar Supermercados próximos à localização fornecida pelo usuário.\n",
        "        Busque por \"Supermercados perto de {localizacao}\" ou \"Supermercados em {localizacao}\".\n",
        "        Para cada Supermercado encontrado nos resultados da busca, indentifique e extraia o nome, endereço e, **principalmente, o número de telefone**.\n",
        "        Liste cada Supermercado encontrado com seus telefones de forma clara e sucinta.\n",
        "        Caso não encontre telefones para algum Supermercado, informe o usuário\n",
        "        Caso não encontre nenhum Supermercado na busca, informe o usuário.\n",
        "        Sua principal missão é listar os supermercados que parecem mais relevantes ou mais próximos com base nos resultados da busca.\n",
        "        \"\"\",\n",
        "        description=\"Agente que busca Supermercados próximos e seus telefones usando Google Search.\",\n",
        "        tools=[google_search]\n",
        "    )\n",
        "\n",
        "    entrada_do_agente = f\"Encontre Supermercados Proximos de {localizacao} que possam ter {produto}. Liste os nomes, endereços e telefones.\"\n",
        "\n",
        "    resultados_busca = call_agent(buscador_supermercados, entrada_do_agente)\n",
        "\n",
        "\n",
        "    return resultados_busca"
      ],
      "metadata": {
        "id": "j2aBIHpHZWDJ"
      },
      "execution_count": 70,
      "outputs": []
    },
    {
      "cell_type": "code",
      "source": [
        "# --- Agente 2: Comparador de Preços de Produtos --- #\n",
        "########################################################\n",
        "\n",
        "def agente_comparador_precos(produto: str) -> str:\n",
        "    comparador_precos = Agent(\n",
        "        name=\"agente_comparador_precos\",\n",
        "        model=\"gemini-2.0-flash\",\n",
        "        instruction=f\"\"\"\n",
        "        Você é um assistente de comparação de preços de Produtos. Sua missão é usar a ferramenta de busca do Google (google_search)\n",
        "        para encontrar o preço do Produto \"{produto}\" em diferentes Supermercados,sites de comparação de preços e em ou outras fontes confiáveis.\n",
        "        Busque por \"{produto} preço\", \"{produto} onde comprar mais barato\", etc.\n",
        "        Analise os resultados da busca para identificar os preços listados e as fontes (Supermercados, sites, folhetos online).\n",
        "        Liste os preços encontrados, indicando a fonte (nome do Supermercado /site).\n",
        "        **Identifique claramente a opção mais barata encontrada** e mencione a fonte.\n",
        "        Caso não encontre as informações de preço, informe o usuário.\n",
        "        \"\"\",\n",
        "        description=\"Agente que busca e compara preços de Produtos usando Google Search.\",\n",
        "        tools=[google_search]\n",
        "    )\n",
        "\n",
        "    entrada_do_agente = f\"Compare os preços do Produto {produto} e encontre a opção mais barata.\"\n",
        "\n",
        "    resultados_comparacao = call_agent(comparador_precos, entrada_do_agente)\n",
        "\n",
        "    return resultados_comparacao"
      ],
      "metadata": {
        "id": "2H_2edIjZaEZ"
      },
      "execution_count": 71,
      "outputs": []
    },
    {
      "cell_type": "code",
      "source": [
        "# --- Fluxo Principal de Execução --- #\n",
        "##########################################\n",
        "\n",
        "print(\"🚀 Iniciando o Sistema de Busca de Supermercados e Produtos 🚀\")\n",
        "\n",
        "# --- Obter Input do Usuário ---\n",
        "produtos_buscados = []\n",
        "continuar = \"sim\"\n",
        "\n",
        "while continuar.lower() == \"sim\":\n",
        "    produto = input(\"❓ Digite o NOME do produto que você procura: \")\n",
        "    produtos_buscados.append(produto)\n",
        "    continuar = input(\"➕ Deseja adicionar mais um produto? (sim/não): \")\n",
        "\n",
        "print(\"\\nOs produtos que você procura são:\")\n",
        "for i, produto in enumerate(produtos_buscados):\n",
        "    print(f\"{i+1}. {produto}\")\n",
        "\n",
        "# Solicita a localização do usuário\n",
        "localizacao_usuario = input(\"📍 Por favor, digite sua LOCALIZAÇÃO (ex: 'São Paulo, Jardim Paulista', 'CEP 01402-001'): \")\n",
        "\n",
        "# Verifica se as entradas foram fornecidas\n",
        "if not produtos_buscados or not localizacao_usuario:\n",
        "    print(\"❌ Você esqueceu de digitar o nome do Produto ou sua localização!\")\n",
        "else:\n",
        "    print(f\"\\nMaravilha! Vamos buscar informações sobre '{produtos_buscados} 'perto de '{localizacao_usuario}'.\")\n",
        "\n",
        "    # --- Etapa 1: Buscar Supermercados Próximos ---\n",
        "    print(\"\\n--- 🏥 Executando Agente 1 (Buscador de Supermercados) ---\")\n",
        "    supermercado_encontrados = agente_supermercados_proximos(produtos_buscados, localizacao_usuario)\n",
        "    print(\"\\n--- ✅ Resultado do Agente 1 (Supermercados Encontrados) ---\\n\")\n",
        "    display(to_markdown(supermercado_encontrados))\n",
        "    print(\"--------------------------------------------------------------\")\n",
        "\n",
        "    # --- Etapa 2: Comperando os Preços dos Produtos Informados ---\n",
        "    print(\"\\n--- 💰 Executando Agente 2 (Comparador de Preços) ---\")\n",
        "    precos_comparados = agente_comparador_precos(produtos_buscados)\n",
        "    print(\"\\n--- ✅ Resultado do Agente 2 (Comparação de Preços) ---\\n\")\n",
        "    variavel1 = [precos_comparados]\n",
        "    tabela_dados = list(zip(variavel1))\n",
        "    cabecalhos = [\"Comparação de Preço dos Produtos Informados\"]\n",
        "    print(tabulate(tabela_dados, headers=cabecalhos, tablefmt=\"fancy_grid\"))\n",
        "    print(\"--------------------------------------------------------------\")\n",
        "\n",
        "    print(\"\\n🎉 Processo concluído!\")"
      ],
      "metadata": {
        "colab": {
          "base_uri": "https://localhost:8080/",
          "height": 1000
        },
        "id": "SHYHLuVyZd4D",
        "outputId": "abdba58f-64e0-4063-871c-6c0b551813dd"
      },
      "execution_count": 80,
      "outputs": [
        {
          "output_type": "stream",
          "name": "stdout",
          "text": [
            "🚀 Iniciando o Sistema de Busca de Supermercados e Produtos 🚀\n",
            "❓ Digite o NOME do produto que você procura: Arroz\n",
            "➕ Deseja adicionar mais um produto? (sim/não): sim\n",
            "❓ Digite o NOME do produto que você procura: óleo\n",
            "➕ Deseja adicionar mais um produto? (sim/não): sim\n",
            "❓ Digite o NOME do produto que você procura: açucar\n",
            "➕ Deseja adicionar mais um produto? (sim/não): leite\n",
            "\n",
            "Os produtos que você procura são:\n",
            "1. Arroz\n",
            "2. óleo\n",
            "3. açucar\n",
            "📍 Por favor, digite sua LOCALIZAÇÃO (ex: 'São Paulo, Jardim Paulista', 'CEP 01402-001'): R. Min. Viveiros de Castro, 38 - Copacabana, Rio de Janeiro - RJ, 22021-010\n",
            "\n",
            "Maravilha! Vamos buscar informações sobre '['Arroz', 'óleo', 'açucar'] 'perto de 'R. Min. Viveiros de Castro, 38 - Copacabana, Rio de Janeiro - RJ, 22021-010'.\n",
            "\n",
            "--- 🏥 Executando Agente 1 (Buscador de Supermercados) ---\n",
            "🤖 Executando Agente: agente_buscador_supermercados...\n",
            "✅ Execução do Agente agente_buscador_supermercados concluída.\n",
            "\n",
            "--- ✅ Resultado do Agente 1 (Supermercados Encontrados) ---\n",
            "\n"
          ]
        },
        {
          "output_type": "display_data",
          "data": {
            "text/plain": [
              "<IPython.core.display.Markdown object>"
            ],
            "text/markdown": "> Com base nas informações encontradas, aqui estão alguns supermercados próximos ao endereço fornecido, juntamente com os detalhes disponíveis:\n> \n> *   **Pão de Açúcar**\n> \n>     *   Endereço: Rua Ministro Viveiros de Castro, 38 - Copacabana, Rio de Janeiro - RJ, 22021-010\n>     *   Telefone: Não foi possível encontrar o número de telefone específico desta unidade nas fontes consultadas. Você pode tentar encontrar o telefone no site do Pão de Açúcar ou ligando para a central de atendimento.\n> \n> *   **Supermercados Mundial**\n> \n>     *   Endereço: Rua Siqueira Campos, 69, Copacabana, Rio de Janeiro\n>     *   Telefone: Não foi possível encontrar o número de telefone específico desta unidade nas fontes consultadas. Você pode tentar encontrar o telefone no site do Mundial ou ligando para a central de atendimento.\n> \n> *   **Supermercado Zona Sul**\n> \n>     *   Várias localizações na Avenida Nossa Senhora de Copacabana e Rua Francisco Sá.\n>     *   Telefone: Não foi possível encontrar o número de telefone específico desta unidade nas fontes consultadas. Você pode tentar encontrar o telefone no site do Zona Sul ou ligando para a central de atendimento.\n> \n> Note que a disponibilidade de produtos como Arroz, óleo e açúcar pode variar entre os supermercados e seus estoques no momento da compra. Recomendo verificar diretamente com o supermercado se eles têm os produtos desejados em estoque.\n"
          },
          "metadata": {}
        },
        {
          "output_type": "stream",
          "name": "stdout",
          "text": [
            "--------------------------------------------------------------\n",
            "\n",
            "--- 💰 Executando Agente 2 (Comparador de Preços) ---\n",
            "🤖 Executando Agente: agente_comparador_precos...\n",
            "✅ Execução do Agente agente_comparador_precos concluída.\n",
            "\n",
            "--- ✅ Resultado do Agente 2 (Comparação de Preços) ---\n",
            "\n",
            "╒════════════════════════════════════════════════════════════════════════════════════════════════════════════════════════════════════════════════════════════════════════════════════════════════╕\n",
            "│ Comparação de Preço dos Produtos Informados                                                                                                                                                    │\n",
            "╞════════════════════════════════════════════════════════════════════════════════════════════════════════════════════════════════════════════════════════════════════════════════════════════════╡\n",
            "│ Com base nas informações encontradas, comparei os preços de Arroz, Óleo e Açúcar em diferentes supermercados e sites. Abaixo, apresento os preços mais baixos identificados para cada produto: │\n",
            "│                                                                                                                                                                                                │\n",
            "│ **Arroz:**                                                                                                                                                                                     │\n",
            "│                                                                                                                                                                                                │\n",
            "│ *   **Supermercado Online Pague Menos:** Arroz Broto Legal Tipo 1 Integral 1kg por R$ 5,99 (Clube Leve Mais)                                                                                   │\n",
            "│                                                                                                                                                                                                │\n",
            "│ **Óleo:**                                                                                                                                                                                      │\n",
            "│                                                                                                                                                                                                │\n",
            "│ *   **Bretas Supermercado:** Óleo de Soja Liza Pet 900ml por R$ 5,99 (Oferta Clube)                                                                                                            │\n",
            "│ *   **Supermercado Mundial:** Óleo de Soja Vila Velha 900ML por R$ 6,99 (Mundial Clube)                                                                                                        │\n",
            "│ *   **Confiança Delivery:** Óleo de Soja Coamo 900ml por R$ 6,98                                                                                                                               │\n",
            "│                                                                                                                                                                                                │\n",
            "│ **Açúcar:**                                                                                                                                                                                    │\n",
            "│                                                                                                                                                                                                │\n",
            "│ *   **Supermercado Online - Extra Mercado:** Açúcar Refinado QUALITÁ Pacote 1Kg por R$ 4,19                                                                                                    │\n",
            "│ *   **Supermercado Mundial:** Açucar Cristal Ecoaçúcar - 1kg por R$ 4,59                                                                                                                       │\n",
            "│ *   **Trimais:** Açúcar Refinado União Pacote 1kg por R$ 4,78                                                                                                                                  │\n",
            "│ *   **Nova Era:** Açúcar Cristal Branco Itamati Embalagem 1kg por R$ 3,69                                                                                                                      │\n",
            "│                                                                                                                                                                                                │\n",
            "│ **Opção Mais Barata Identificada:**                                                                                                                                                            │\n",
            "│                                                                                                                                                                                                │\n",
            "│ *   **Arroz:** Supermercado Online Pague Menos (R$ 5,99)                                                                                                                                       │\n",
            "│ *   **Óleo:** Bretas Supermercado e Supermercado Mundial (R$ 5,99 e R$ 6,99, respectivamente)                                                                                                  │\n",
            "│ *   **Açúcar:** Nova Era (R$ 3,69)                                                                                                                                                             │\n",
            "│                                                                                                                                                                                                │\n",
            "│ **Observações:**                                                                                                                                                                               │\n",
            "│                                                                                                                                                                                                │\n",
            "│ *   Os preços podem variar dependendo da sua localização e das promoções vigentes.                                                                                                             │\n",
            "│ *   Recomendo verificar os preços nos sites dos supermercados antes de fazer a compra, pois podem ter ocorrido alterações.                                                                     │\n",
            "│ *   Alguns supermercados oferecem preços diferenciados para membros de clubes de fidelidade, como o \"Clube Leve Mais\" do Pague Menos.                                                          │\n",
            "╘════════════════════════════════════════════════════════════════════════════════════════════════════════════════════════════════════════════════════════════════════════════════════════════════╛\n",
            "--------------------------------------------------------------\n",
            "\n",
            "🎉 Processo concluído!\n"
          ]
        }
      ]
    }
  ]
}